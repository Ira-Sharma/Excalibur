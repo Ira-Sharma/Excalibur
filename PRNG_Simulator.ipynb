{
  "cells": [
    {
      "cell_type": "markdown",
      "metadata": {
        "id": "u0qGxis7keuX"
      },
      "source": [
        "# PRNGs\n"
      ]
    },
    {
      "cell_type": "code",
      "execution_count": 25,
      "metadata": {
        "id": "A7wT01GF254V"
      },
      "outputs": [],
      "source": [
        "# All libraries here :\n",
        "import matplotlib.pyplot as plt\n",
        "import numpy as np\n",
        "import time"
      ]
    },
    {
      "cell_type": "code",
      "execution_count": 26,
      "metadata": {
        "id": "PzqoIQ1s2-yS",
        "colab": {
          "base_uri": "https://localhost:8080/"
        },
        "outputId": "59d5eee1-b984-4be3-b82a-6ec4ed215b32"
      },
      "outputs": [
        {
          "output_type": "stream",
          "name": "stdout",
          "text": [
            "1 48\n",
            "2 23\n",
            "3 48\n",
            "4 23\n",
            "5 48\n",
            "6 23\n",
            "7 48\n",
            "8 23\n",
            "9 48\n",
            "10 23\n",
            "11 48\n",
            "12 23\n",
            "13 48\n",
            "14 23\n",
            "15 48\n",
            "16 23\n",
            "17 48\n",
            "18 23\n",
            "19 48\n",
            "20 23\n"
          ]
        }
      ],
      "source": [
        "# Linear Congruential generator\n",
        "def LCG(x_n,m) :\n",
        "  a = 1664525\n",
        "  c = 1013904223\n",
        "  return (a*x_n + c)%m\n",
        "n = 20 #no of random numbers\n",
        "seed = 71\n",
        "for i in range (n) :\n",
        "  seed = LCG(seed,50)\n",
        "  print(i+1, seed)\n"
      ]
    },
    {
      "cell_type": "code",
      "execution_count": 27,
      "metadata": {
        "colab": {
          "base_uri": "https://localhost:8080/"
        },
        "id": "8t18zQFqaPs2",
        "outputId": "6d3bba9f-c0af-4eb4-b6b8-305bc561fdb4"
      },
      "outputs": [
        {
          "output_type": "stream",
          "name": "stdout",
          "text": [
            "13\n",
            "30\n",
            "36\n",
            "52\n",
            "81\n",
            "21\n",
            "76\n",
            "92\n",
            "19\n",
            "77\n",
            "20\n",
            "87\n",
            "64\n",
            "68\n",
            "31\n",
            "21\n",
            "76\n",
            "92\n",
            "19\n",
            "77\n"
          ]
        }
      ],
      "source": [
        "# Discrete Exponential Generator\n",
        "def deg(g,N):\n",
        "  global seed\n",
        "  seed=(g**seed)%N\n",
        "  return seed\n",
        "seed=7\n",
        "for i in range(20):\n",
        "  print(deg(9,101))"
      ]
    },
    {
      "cell_type": "code",
      "execution_count": 28,
      "metadata": {
        "colab": {
          "base_uri": "https://localhost:8080/"
        },
        "id": "ZhG1_okcDeEA",
        "outputId": "dbf0c236-ea01-49ea-8194-956aaa852a8f"
      },
      "outputs": [
        {
          "output_type": "stream",
          "name": "stdout",
          "text": [
            "1 seed= 1 random number= 0.04950495049504951\n",
            "2 seed= 5 random number= 0.42574257425742573\n",
            "3 seed= 43 random number= 0.4158415841584158\n",
            "4 seed= 42 random number= 0.6633663366336634\n",
            "5 seed= 67 random number= 0.9306930693069307\n"
          ]
        }
      ],
      "source": [
        "# Inversive Congruential Generator\n",
        "from sympy import mod_inverse\n",
        "def icg(m,a,c):\n",
        "  global seed\n",
        "  if seed==0:\n",
        "    seed=c\n",
        "    return seed/m\n",
        "  else:\n",
        "    seed = (a*mod_inverse(seed,m) + c)%m\n",
        "    return seed/m\n",
        "seed=1\n",
        "for i in range(5):\n",
        "  print(i+1, \"seed=\", seed, \"random number=\",icg(101,3,2))"
      ]
    },
    {
      "cell_type": "code",
      "execution_count": 29,
      "metadata": {
        "colab": {
          "base_uri": "https://localhost:8080/"
        },
        "id": "crTJTjKADf7J",
        "outputId": "db3ea66e-1673-433c-d78c-af6250565a4c"
      },
      "outputs": [
        {
          "output_type": "stream",
          "name": "stdout",
          "text": [
            "seed= 7 random number= 0.63\n",
            "seed= 63 random number= 0.67\n",
            "seed= 67 random number= 0.03\n",
            "seed= 3 random number= 0.27\n",
            "seed= 27 random number= 0.43\n",
            "seed= 43 random number= 0.87\n",
            "seed= 87 random number= 0.83\n",
            "seed= 83 random number= 0.47\n",
            "seed= 47 random number= 0.23\n",
            "seed= 23 random number= 0.07\n",
            "seed= 7 random number= 0.63\n",
            "seed= 63 random number= 0.67\n",
            "seed= 67 random number= 0.03\n",
            "seed= 3 random number= 0.27\n",
            "seed= 27 random number= 0.43\n",
            "seed= 43 random number= 0.87\n",
            "seed= 87 random number= 0.83\n",
            "seed= 83 random number= 0.47\n",
            "seed= 47 random number= 0.23\n",
            "seed= 23 random number= 0.07\n",
            "seed= 7 random number= 0.63\n"
          ]
        }
      ],
      "source": [
        "# Multiplicative Congruential Generator or Lehmer RNG\n",
        "def mcg(m,a):\n",
        "  global seed\n",
        "  seed=(a*seed)%m\n",
        "  return seed/m\n",
        "seed=7\n",
        "for i in range(21):\n",
        "  print(\"seed=\", seed, \"random number=\", mcg(100,9))"
      ]
    },
    {
      "cell_type": "markdown",
      "metadata": {
        "id": "ctbMCK-3kkNl"
      },
      "source": [
        "# Calculating periods and binning\n",
        "\n"
      ]
    },
    {
      "cell_type": "code",
      "execution_count": 30,
      "metadata": {
        "id": "zaxl7rdckoN6"
      },
      "outputs": [],
      "source": [
        "import matplotlib.pyplot as plt\n",
        "import numpy as np\n",
        "from sympy import mod_inverse\n"
      ]
    },
    {
      "cell_type": "code",
      "execution_count": 36,
      "metadata": {
        "colab": {
          "base_uri": "https://localhost:8080/",
          "height": 482
        },
        "id": "gXXL1pruMOre",
        "outputId": "a1b6d648-4a60-433f-a891-f088aede5a1f"
      },
      "outputs": [
        {
          "output_type": "stream",
          "name": "stdout",
          "text": [
            "Enter the number of digits in seed(even):2\n",
            "Please enter seed:67\n",
            "We began with 67, and have repeated ourselves after 5 steps with 10.\n"
          ]
        },
        {
          "output_type": "display_data",
          "data": {
            "text/plain": [
              "<Figure size 640x480 with 1 Axes>"
            ],
            "image/png": "[encoded data removed]"
          },
          "metadata": {}
        }
      ],
      "source": [
        "#1. middle square method\n",
        "n = int(input('Enter the number of digits in seed(even):'))\n",
        "seed = int(input('Please enter seed:'))\n",
        "number = seed\n",
        "already_seen = set()\n",
        "counter = 0\n",
        "\n",
        "def MSM(x_n):\n",
        "    return int(str(x_n * x_n).zfill(2*n)[int(n-(n/2)):int(n+(n/2))])\n",
        "\n",
        "while number not in already_seen:\n",
        "    counter += 1\n",
        "    already_seen.add(number)\n",
        "    number = MSM(number)\n",
        "    #print(f\"#{counter}: {number}\")\n",
        "\n",
        "print(f\"We began with {seed}, and\" f\" have repeated ourselves after {counter} steps\"f\" with {number}.\")\n",
        "\n",
        "msm =[]\n",
        "for i in range (100) :\n",
        "    seed = MSM(seed)\n",
        "    op = (seed)\n",
        "    msm.append(op)\n",
        "msm = np.array(msm)\n",
        "plt.hist(msm, int((max(msm)-min(msm))/10))\n",
        "plt.show()"
      ]
    },
    {
      "cell_type": "code",
      "execution_count": 37,
      "metadata": {
        "id": "7zjnA8YakzJQ",
        "colab": {
          "base_uri": "https://localhost:8080/",
          "height": 465
        },
        "outputId": "621aad04-e0cd-42cb-91ff-2271aeb86600"
      },
      "outputs": [
        {
          "output_type": "stream",
          "name": "stdout",
          "text": [
            "Please enter seed:67\n",
            "We began with 67, and have repeated ourselves after 5 steps with 98.\n"
          ]
        },
        {
          "output_type": "display_data",
          "data": {
            "text/plain": [
              "<Figure size 640x480 with 1 Axes>"
            ],
            "image/png": "[encoded data removed]"
          },
          "metadata": {}
        }
      ],
      "source": [
        "#2. linear congruential generator\n",
        "seed = int(input('Please enter seed:'))\n",
        "number = seed\n",
        "already_seen = set()\n",
        "counter = 0\n",
        "def LCG(x_n,m):\n",
        "    a = 1664525\n",
        "    c = 1013904223\n",
        "    return (a*x_n + c)%m\n",
        "while number not in already_seen:\n",
        "    counter += 1\n",
        "    already_seen.add(number)\n",
        "    number = LCG(number,100)\n",
        "    #print(f\"#{counter}: {number}\")\n",
        "print(f\"We began with {seed}, and\" f\" have repeated ourselves after {counter} steps\" f\" with {number}.\")\n",
        "\n",
        "lcg =[]\n",
        "for i in range (100) :\n",
        "    seed = LCG(seed,97)\n",
        "    op = (seed)\n",
        "    lcg.append(op)\n",
        "lcg = np.array(lcg)\n",
        "plt.hist(lcg, int((max(lcg)-min(lcg))/10))\n",
        "plt.show()"
      ]
    },
    {
      "cell_type": "code",
      "execution_count": 38,
      "metadata": {
        "id": "8J6bFeFslD0o",
        "colab": {
          "base_uri": "https://localhost:8080/",
          "height": 465
        },
        "outputId": "35d52a4c-0c20-497d-d663-134dd1f2d71a"
      },
      "outputs": [
        {
          "output_type": "stream",
          "name": "stdout",
          "text": [
            "Please enter seed:67\n",
            "We began with 67, and have repeated ourselves after 10 steps with 67.\n"
          ]
        },
        {
          "output_type": "display_data",
          "data": {
            "text/plain": [
              "<Figure size 640x480 with 1 Axes>"
            ],
            "image/png": "[encoded data removed]"
          },
          "metadata": {}
        }
      ],
      "source": [
        "#3. Power generator\n",
        "seed = int(input('Please enter seed:'))\n",
        "number = seed\n",
        "already_seen = set()\n",
        "counter = 0\n",
        "def PG(x_n,m):\n",
        "    d = 9\n",
        "    return (x_n**d)%m\n",
        "\n",
        "while number not in already_seen:\n",
        "    counter += 1\n",
        "    already_seen.add(number)\n",
        "    number = PG(number, 1000)\n",
        "    #print(f\"#{counter}: {number}\")\n",
        "print(f\"We began with {seed}, and\" f\" have repeated ourselves after {counter} steps\" f\" with {number}.\")\n",
        "\n",
        "pg =[]\n",
        "for i in range (100) :\n",
        "    seed = PG(seed,97)\n",
        "    op = (seed)\n",
        "    pg.append(op)\n",
        "pg = np.array(pg)\n",
        "plt.hist(pg, int((max(pg)-min(pg))/10))\n",
        "plt.show()"
      ]
    },
    {
      "cell_type": "code",
      "execution_count": 39,
      "metadata": {
        "id": "ZP2I09hXmb0a",
        "colab": {
          "base_uri": "https://localhost:8080/",
          "height": 465
        },
        "outputId": "3d6c6d77-d74a-474e-82a6-b4970b76b572"
      },
      "outputs": [
        {
          "output_type": "stream",
          "name": "stdout",
          "text": [
            "Please enter seed:67\n",
            "We began with 67, and have repeated ourselves after 14 steps with 76.\n"
          ]
        },
        {
          "output_type": "display_data",
          "data": {
            "text/plain": [
              "<Figure size 640x480 with 1 Axes>"
            ],
            "image/png": "[encoded data removed]"
          },
          "metadata": {}
        }
      ],
      "source": [
        "# 4. Discrete Exponential Generator\n",
        "seed = int(input('Please enter seed:'))\n",
        "number = seed\n",
        "already_seen = set()\n",
        "counter = 0\n",
        "def DEG(x_n,N):\n",
        "    g = 9\n",
        "    return (g**x_n)%N\n",
        "\n",
        "while number not in already_seen:\n",
        "    counter += 1\n",
        "    already_seen.add(number)\n",
        "    number = DEG(number,101)\n",
        "    #print(f\"#{counter}: {number}\")\n",
        "print(f\"We began with {seed}, and\" f\" have repeated ourselves after {counter} steps\" f\" with {number}.\")\n",
        "\n",
        "deg =[]\n",
        "for i in range (100) :\n",
        "    seed = DEG(seed,97)\n",
        "    op = (seed)\n",
        "    deg.append(op)\n",
        "deg = np.array(deg)\n",
        "plt.hist(deg, int((max(deg)-min(deg))/5))\n",
        "plt.show()"
      ]
    },
    {
      "cell_type": "code",
      "execution_count": 40,
      "metadata": {
        "colab": {
          "base_uri": "https://localhost:8080/",
          "height": 1000
        },
        "id": "OKZB283xmnjG",
        "outputId": "f361dbdd-0b63-404c-c3ad-5ec0d25fa08c"
      },
      "outputs": [
        {
          "output_type": "stream",
          "name": "stdout",
          "text": [
            "1 398\n",
            "2 173\n",
            "3 48\n",
            "4 423\n",
            "5 298\n",
            "6 173\n",
            "7 48\n",
            "8 423\n",
            "9 298\n",
            "10 173\n",
            "11 48\n",
            "12 423\n",
            "13 298\n",
            "14 173\n",
            "15 48\n",
            "16 423\n",
            "17 298\n",
            "18 173\n",
            "19 48\n",
            "20 423\n",
            "21 298\n",
            "22 173\n",
            "23 48\n",
            "24 423\n",
            "25 298\n",
            "26 173\n",
            "27 48\n",
            "28 423\n",
            "29 298\n",
            "30 173\n",
            "31 48\n",
            "32 423\n",
            "33 298\n",
            "34 173\n",
            "35 48\n",
            "36 423\n",
            "37 298\n",
            "38 173\n",
            "39 48\n",
            "40 423\n",
            "41 298\n",
            "42 173\n",
            "43 48\n",
            "44 423\n",
            "45 298\n",
            "46 173\n",
            "47 48\n",
            "48 423\n",
            "49 298\n",
            "50 173\n",
            "51 48\n",
            "52 423\n",
            "53 298\n",
            "54 173\n",
            "55 48\n",
            "56 423\n",
            "57 298\n",
            "58 173\n",
            "59 48\n",
            "60 423\n",
            "61 298\n",
            "62 173\n",
            "63 48\n",
            "64 423\n",
            "65 298\n",
            "66 173\n",
            "67 48\n",
            "68 423\n",
            "69 298\n",
            "70 173\n",
            "71 48\n",
            "72 423\n",
            "73 298\n",
            "74 173\n",
            "75 48\n",
            "76 423\n",
            "77 298\n",
            "78 173\n",
            "79 48\n",
            "80 423\n",
            "81 298\n",
            "82 173\n",
            "83 48\n",
            "84 423\n",
            "85 298\n",
            "86 173\n",
            "87 48\n",
            "88 423\n",
            "89 298\n",
            "90 173\n",
            "91 48\n",
            "92 423\n",
            "93 298\n",
            "94 173\n",
            "95 48\n",
            "96 423\n",
            "97 298\n",
            "98 173\n",
            "99 48\n",
            "100 423\n",
            "101 298\n",
            "102 173\n",
            "103 48\n",
            "104 423\n",
            "105 298\n",
            "106 173\n",
            "107 48\n",
            "108 423\n",
            "109 298\n",
            "110 173\n",
            "111 48\n",
            "112 423\n",
            "113 298\n",
            "114 173\n",
            "115 48\n",
            "116 423\n",
            "117 298\n",
            "118 173\n",
            "119 48\n",
            "120 423\n",
            "121 298\n",
            "122 173\n",
            "123 48\n",
            "124 423\n",
            "125 298\n",
            "126 173\n",
            "127 48\n",
            "128 423\n",
            "129 298\n",
            "130 173\n",
            "131 48\n",
            "132 423\n",
            "133 298\n",
            "134 173\n",
            "135 48\n",
            "136 423\n",
            "137 298\n",
            "138 173\n",
            "139 48\n",
            "140 423\n",
            "141 298\n",
            "142 173\n",
            "143 48\n",
            "144 423\n",
            "145 298\n",
            "146 173\n",
            "147 48\n",
            "148 423\n",
            "149 298\n",
            "150 173\n",
            "151 48\n",
            "152 423\n",
            "153 298\n",
            "154 173\n",
            "155 48\n",
            "156 423\n",
            "157 298\n",
            "158 173\n",
            "159 48\n",
            "160 423\n",
            "161 298\n",
            "162 173\n",
            "163 48\n",
            "164 423\n",
            "165 298\n",
            "166 173\n",
            "167 48\n",
            "168 423\n",
            "169 298\n",
            "170 173\n",
            "171 48\n",
            "172 423\n",
            "173 298\n",
            "174 173\n",
            "175 48\n",
            "176 423\n",
            "177 298\n",
            "178 173\n",
            "179 48\n",
            "180 423\n",
            "181 298\n",
            "182 173\n",
            "183 48\n",
            "184 423\n",
            "185 298\n",
            "186 173\n",
            "187 48\n",
            "188 423\n",
            "189 298\n",
            "190 173\n",
            "191 48\n",
            "192 423\n",
            "193 298\n",
            "194 173\n",
            "195 48\n",
            "196 423\n",
            "197 298\n",
            "198 173\n",
            "199 48\n",
            "200 423\n",
            "Please enter seed:67\n",
            "We began with 67, and have repeated ourselves after 99 steps with 67.\n"
          ]
        },
        {
          "output_type": "display_data",
          "data": {
            "text/plain": [
              "<Figure size 640x480 with 1 Axes>"
            ],
            "image/png": "[encoded data removed]"
          },
          "metadata": {}
        }
      ],
      "source": [
        "# Linear Congruential generator\n",
        "def LCG(x_n,m) :\n",
        "  a = 1664525\n",
        "  c = 1013904223\n",
        "  return (a*x_n + c)%m\n",
        "n = 200 #no of random numbers\n",
        "seed = 7\n",
        "for i in range (n) :\n",
        "  seed = LCG(seed,500)\n",
        "  print(i+1, seed)# 5. Inversive Congruential Generator\n",
        "from sympy import mod_inverse\n",
        "\n",
        "seed = int(input('Please enter seed:'))\n",
        "number = seed\n",
        "already_seen = set()\n",
        "counter = 0\n",
        "def ICG(x_n, m):\n",
        "    global seed\n",
        "    a = 3\n",
        "    c = 2\n",
        "    if seed==0:\n",
        "        seed = c\n",
        "        return c\n",
        "    else:\n",
        "        seed = (a*mod_inverse(x_n,m) + c)%m\n",
        "        return seed\n",
        "\n",
        "while number not in already_seen:\n",
        "    counter += 1\n",
        "    already_seen.add(number)\n",
        "    number = ICG(number, 101)\n",
        "    #print(f\"#{counter}: {number}\")\n",
        "print(f\"We began with {seed}, and\" f\" have repeated ourselves after {counter} steps\" f\" with {number}.\")\n",
        "\n",
        "icg =[]\n",
        "for i in range (100) :\n",
        "    seed = ICG(seed,97)\n",
        "    op = (seed)\n",
        "    icg.append(op)\n",
        "icg = np.array(icg)\n",
        "plt.hist(icg, int((max(icg)-min(icg))/10))\n",
        "plt.show()"
      ]
    },
    {
      "cell_type": "code",
      "execution_count": 41,
      "metadata": {
        "colab": {
          "base_uri": "https://localhost:8080/",
          "height": 465
        },
        "id": "AxqKv6ZFmx0d",
        "outputId": "f8b15a32-2d88-41d7-a219-7314b9314942"
      },
      "outputs": [
        {
          "output_type": "stream",
          "name": "stdout",
          "text": [
            "Please enter seed:67\n",
            "We began with 67, and have repeated ourselves after 11 steps with 188.\n"
          ]
        },
        {
          "output_type": "display_data",
          "data": {
            "text/plain": [
              "<Figure size 640x480 with 1 Axes>"
            ],
            "image/png": "[encoded data removed]"
          },
          "metadata": {}
        }
      ],
      "source": [
        "# 6. Blum-Blum-Shub\n",
        "seed = int(input('Please enter seed:'))\n",
        "number = seed\n",
        "already_seen = set()\n",
        "Fib_Array = [0,1]\n",
        "def fibonacci(n):\n",
        "   if n<0:\n",
        "      print(\"Fibbonacci can't be computed\")\n",
        "   elif n<=len(Fib_Array):\n",
        "      return Fib_Array[n-1]\n",
        "   else:\n",
        "      temp = fibonacci(n-1)+fibonacci(n-2)\n",
        "      Fib_Array.append(temp)\n",
        "      return temp\n",
        "counter = 0\n",
        "def BBS(x_n,p,q): ##p,q large primes\n",
        "    return (x_n**2)% (p*q)\n",
        "\n",
        "while number not in already_seen:\n",
        "    counter += 1\n",
        "    already_seen.add(number)\n",
        "    number = BBS(number,11, 23)\n",
        "    #print(f\"#{counter}: {number}\")\n",
        "print(f\"We began with {seed}, and\" f\" have repeated ourselves after {counter} steps\" f\" with {number}.\")\n",
        "\n",
        "bbs =[]\n",
        "for i in range (10) :\n",
        "    seed = BBS(seed,11,23)\n",
        "    op = (seed)\n",
        "    bbs.append(op)\n",
        "bbs = np.array(bbs)\n",
        "plt.hist(bbs, int((max(bbs)-min(bbs))/10))\n",
        "plt.show()"
      ]
    },
    {
      "cell_type": "code",
      "execution_count": 42,
      "metadata": {
        "colab": {
          "base_uri": "https://localhost:8080/",
          "height": 465
        },
        "id": "LfqfY3nLm6g_",
        "outputId": "a22a138a-1642-402d-a0d2-0ad7896c7966"
      },
      "outputs": [
        {
          "output_type": "stream",
          "name": "stdout",
          "text": [
            "Please enter seed:67\n",
            "We began with 67, and have repeated ourselves after 10 steps with 67.\n"
          ]
        },
        {
          "output_type": "display_data",
          "data": {
            "text/plain": [
              "<Figure size 640x480 with 1 Axes>"
            ],
            "image/png": "[encoded data removed]"
          },
          "metadata": {}
        }
      ],
      "source": [
        " # 7. Multiplicative Congruential Generator or Lehmer RNG\n",
        "seed = int(input('Please enter seed:'))\n",
        "number = seed\n",
        "already_seen = set()\n",
        "counter = 0\n",
        "def MCG(x_n,m):\n",
        "    a = 9\n",
        "    return (a*x_n)%m\n",
        "while number not in already_seen:\n",
        "    counter += 1\n",
        "    already_seen.add(number)\n",
        "    number = MCG(number,100)\n",
        "    #print(f\"#{counter}: {number}\")\n",
        "print(f\"We began with {seed}, and\" f\" have repeated ourselves after {counter} steps\" f\" with {number}.\")\n",
        "\n",
        "mcg =[]\n",
        "for i in range (10) :\n",
        "    seed = MCG(seed,1000)\n",
        "    op = (seed)\n",
        "    mcg.append(op)\n",
        "mcg = np.array(mcg)\n",
        "plt.hist(mcg, int((max(mcg)-min(mcg))/100))\n",
        "plt.show()"
      ]
    },
    {
      "cell_type": "markdown",
      "metadata": {
        "id": "T3tglYxZjLdD"
      },
      "source": [
        "# **EXCALIBUR**"
      ]
    },
    {
      "cell_type": "code",
      "execution_count": 43,
      "metadata": {
        "id": "CF74OBUMj7h1"
      },
      "outputs": [],
      "source": [
        "from datetime import datetime\n",
        "from sympy import mod_inverse\n",
        "import time\n",
        "import matplotlib.pyplot as plt"
      ]
    },
    {
      "cell_type": "code",
      "execution_count": 44,
      "metadata": {
        "id": "KERZ7E0hj-kL"
      },
      "outputs": [],
      "source": [
        "def swap(a,b) :\n",
        "  temp = a\n",
        "  a = b\n",
        "  b = temp\n",
        "  return a,b\n",
        "\n",
        "def isprime(num) :\n",
        "  flag = True\n",
        "  if num > 1:\n",
        "      # check for factors\n",
        "      for i in range(2, int(num/2)):\n",
        "          if (num % i) == 0:\n",
        "              flag = False\n",
        "              break\n",
        "  return flag\n",
        "\n",
        "def greatestPrime(a) :\n",
        "  count = 0\n",
        "  while count == 0 :\n",
        "    if isprime(a):\n",
        "      count = 1\n",
        "    else :\n",
        "      a += 1\n",
        "  return a"
      ]
    },
    {
      "cell_type": "code",
      "execution_count": 45,
      "metadata": {
        "id": "VcsC7HjjkEUn"
      },
      "outputs": [],
      "source": [
        "def LCG(x_n,a,c,m) :\n",
        "  return (a*x_n + c)%m\n",
        "\n",
        "def BBS(x_n,p,q,m): ##p,q large primes\n",
        "    return ((x_n**2)% (p*q))%m\n",
        "\n",
        "def ICG(x_n, a,c,m):\n",
        "  flag = False\n",
        "  global seed\n",
        "  while flag == False :\n",
        "    try :\n",
        "      seed = (a*mod_inverse(int(x_n),m) + c)%m\n",
        "      flag = True\n",
        "    except :\n",
        "      seed += 1\n",
        "  return seed\n",
        "\n",
        "def DEG(x_n,d,m):\n",
        "    return (x_n**d)%m\n",
        "\n",
        "def LRNG(x_n,a,m) :\n",
        "  return (a*x_n)%m"
      ]
    },
    {
      "cell_type": "code",
      "execution_count": 46,
      "metadata": {
        "colab": {
          "base_uri": "https://localhost:8080/"
        },
        "id": "B3qf_cibHNXH",
        "outputId": "4a4ff5ca-5e99-4e29-dbc3-0e4d2284268e"
      },
      "outputs": [
        {
          "output_type": "stream",
          "name": "stdout",
          "text": [
            "How many Random numbers? : 30\n",
            "Max random number : 100\n",
            "1 72\n",
            "2 46\n",
            "5 84\n",
            "6 32\n",
            "7 64\n",
            "9 73\n",
            "10 72\n",
            "11 67\n",
            "13 15\n",
            "14 86\n",
            "15 26\n",
            "16 0\n",
            "18 0\n",
            "19 0\n",
            "20 0\n",
            "22 1\n",
            "23 12\n",
            "24 56\n",
            "25 53\n",
            "27 56\n",
            "28 60\n",
            "29 76\n",
            "30 76\n"
          ]
        }
      ],
      "source": [
        "n = int(input(\"How many Random numbers? : \"))\n",
        "m = int(input(\"Max random number : \"))\n",
        "lat = 12.051\n",
        "lon = 78.591\n",
        "seed = int(time.time())\n",
        "prng = ['f1','f2','f3','f4']\n",
        "for i in range(n) :\n",
        "  x = int(str(datetime.now())[-3:])\n",
        "  if x%5 == 4 :\n",
        "    prng[0],prng[3] = swap(prng[0],prng[3])\n",
        "    prng[0],prng[2] = swap(prng[0],prng[2])\n",
        "    prng[0],prng[1] = swap(prng[0],prng[1])\n",
        "  else :\n",
        "    if prng[x%5] == 'f1' :\n",
        "      seed = LCG(seed,lat,lon,m)\n",
        "    if prng[x%5] == 'f2' :\n",
        "      seed = BBS(seed,greatestPrime(lat*1000),greatestPrime(lon*1000),m)\n",
        "    if prng[x%5] == 'f3' :\n",
        "      seed = LRNG(seed,lat,m)\n",
        "    if prng[x%5] == 'f4' :\n",
        "      seed = DEG(int(lat),int(seed%lon),m)\n",
        "    print(i+1,int(seed))"
      ]
    },
    {
      "cell_type": "code",
      "source": [],
      "metadata": {
        "id": "ta2AzQjGfMi2"
      },
      "execution_count": null,
      "outputs": []
    }
  ],
  "metadata": {
    "colab": {
      "provenance": []
    },
    "kernelspec": {
      "display_name": "Python 3",
      "name": "python3"
    },
    "language_info": {
      "name": "python"
    }
  },
  "nbformat": 4,
  "nbformat_minor": 0
}